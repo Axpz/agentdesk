{
 "cells": [
  {
   "cell_type": "code",
   "execution_count": 1,
   "metadata": {},
   "outputs": [],
   "source": [
    "from examples.gpt4v.instruct import system_prompt\n",
    "from examples.gpt4v.oai import chat\n",
    "from agentdesk import Desktop"
   ]
  },
  {
   "cell_type": "code",
   "execution_count": null,
   "metadata": {},
   "outputs": [],
   "source": [
    "# Create a local desktop\n",
    "desktop = Desktop.local()\n",
    "desktop.view(background=True)"
   ]
  },
  {
   "cell_type": "code",
   "execution_count": 2,
   "metadata": {},
   "outputs": [
    {
     "name": "stdout",
     "output_type": "stream",
     "text": [
      "connected to desktop via agentd\n"
     ]
    }
   ],
   "source": [
    "from agentdesk.tool import Desktop\n",
    "\n",
    "desk = Desktop(agentd_url=\"http://localhost:8000\")"
   ]
  },
  {
   "cell_type": "code",
   "execution_count": 4,
   "metadata": {},
   "outputs": [
    {
     "data": {
      "text/plain": [
       "[{'name': 'click',\n",
       "  'parameters': {'type': 'object',\n",
       "   'properties': {'button': {'type': 'string',\n",
       "     'description': 'Button to click. Defaults to \"left\".'},\n",
       "    'x': {'anyOf': [{'type': 'integer'}, {'type': 'null'}],\n",
       "     'description': 'X coordinate to move to, if not provided it will click on current location. Defaults to None.'},\n",
       "    'y': {'anyOf': [{'type': 'integer'}, {'type': 'null'}],\n",
       "     'description': 'Y coordinate to move to, if not provided it will click on current location. Defaults to None.'}},\n",
       "   'required': []},\n",
       "  'description': 'Click mouse button'},\n",
       " {'name': 'double_click',\n",
       "  'parameters': {'type': 'object', 'properties': {}, 'required': []},\n",
       "  'description': 'Double click the mouse'},\n",
       " {'name': 'drag_mouse',\n",
       "  'parameters': {'type': 'object',\n",
       "   'properties': {'x': {'type': 'integer', 'description': 'x coordinate'},\n",
       "    'y': {'type': 'integer', 'description': 'y coordinate'}},\n",
       "   'required': ['x', 'y']},\n",
       "  'description': 'Drag the mouse'},\n",
       " {'name': 'move_mouse',\n",
       "  'parameters': {'type': 'object',\n",
       "   'properties': {'x': {'type': 'integer', 'description': 'x coordinate'},\n",
       "    'y': {'type': 'integer', 'description': 'y coordiname'}},\n",
       "   'required': ['x', 'y']},\n",
       "  'description': 'Move mouse to a position'},\n",
       " {'name': 'open_url',\n",
       "  'parameters': {'type': 'object',\n",
       "   'properties': {'url': {'type': 'string', 'description': 'URL to open'}},\n",
       "   'required': ['url']},\n",
       "  'description': 'Open a URL in chromium'},\n",
       " {'name': 'press_key',\n",
       "  'parameters': {'type': 'object',\n",
       "   'properties': {'key': {'type': 'string',\n",
       "     'description': 'Which key to press'}},\n",
       "   'required': ['key']},\n",
       "  'description': 'Press a key'},\n",
       " {'name': 'scroll',\n",
       "  'parameters': {'type': 'object',\n",
       "   'properties': {'clicks': {'type': 'integer',\n",
       "     'description': 'Number of clicks. Defaults to 3.'}},\n",
       "   'required': []},\n",
       "  'description': 'Scroll the screen'},\n",
       " {'name': 'type_text',\n",
       "  'parameters': {'type': 'object',\n",
       "   'properties': {'text': {'type': 'string', 'description': 'Text to type'}},\n",
       "   'required': ['text']},\n",
       "  'description': 'Type text'}]"
      ]
     },
     "execution_count": 4,
     "metadata": {},
     "output_type": "execute_result"
    }
   ],
   "source": [
    "# Get the actions a model can take on the desktop as json schema\n",
    "actions = desk.json_schema()\n",
    "actions"
   ]
  },
  {
   "cell_type": "code",
   "execution_count": 5,
   "metadata": {},
   "outputs": [],
   "source": [
    "msgs = []"
   ]
  },
  {
   "cell_type": "code",
   "execution_count": 6,
   "metadata": {},
   "outputs": [],
   "source": [
    "# function calling not yet supported in gpt4v\n",
    "msg =  {\n",
    "        \"role\": \"system\",\n",
    "        \"content\": [{\"type\": \"text\", \"text\": system_prompt(actions)}],\n",
    "}\n",
    "msgs.append(msg)"
   ]
  },
  {
   "cell_type": "code",
   "execution_count": 7,
   "metadata": {},
   "outputs": [
    {
     "data": {
      "text/plain": [
       "{'role': 'assistant',\n",
       " 'content': 'I am ready. Please send me the current screenshot and mouse coordinates.'}"
      ]
     },
     "execution_count": 7,
     "metadata": {},
     "output_type": "execute_result"
    }
   ],
   "source": [
    "response = chat(msgs)\n",
    "msgs.append(response)\n",
    "response"
   ]
  },
  {
   "cell_type": "code",
   "execution_count": null,
   "metadata": {},
   "outputs": [],
   "source": [
    "b64_img = desktop.take_screenshot()\n",
    "x, y = desktop.mouse_coordinates()"
   ]
  },
  {
   "cell_type": "code",
   "execution_count": 8,
   "metadata": {},
   "outputs": [],
   "source": [
    "msg = {\n",
    "      \"role\": \"user\",\n",
    "      \"content\": [\n",
    "        {\n",
    "          \"type\": \"text\",\n",
    "          \"text\": f\"Current mouse coordinates are ({x}, {y}), and the task to solve is '{task}', please return the appropriate next action\"\n",
    "        },\n",
    "        {\n",
    "          \"type\": \"image_url\",\n",
    "          \"image_url\": {\n",
    "            \"url\": f\"data:image/jpeg;base64,{b64_img}\"\n",
    "          }\n",
    "        }\n",
    "      ]\n",
    "}\n",
    "msgs.append(msg)"
   ]
  },
  {
   "cell_type": "code",
   "execution_count": null,
   "metadata": {},
   "outputs": [],
   "source": []
  }
 ],
 "metadata": {
  "kernelspec": {
   "display_name": ".venv",
   "language": "python",
   "name": "python3"
  },
  "language_info": {
   "codemirror_mode": {
    "name": "ipython",
    "version": 3
   },
   "file_extension": ".py",
   "mimetype": "text/x-python",
   "name": "python",
   "nbconvert_exporter": "python",
   "pygments_lexer": "ipython3",
   "version": "3.10.1"
  }
 },
 "nbformat": 4,
 "nbformat_minor": 2
}
